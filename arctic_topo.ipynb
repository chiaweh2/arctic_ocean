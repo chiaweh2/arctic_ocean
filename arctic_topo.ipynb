{
 "cells": [
  {
   "cell_type": "code",
   "execution_count": 2,
   "metadata": {},
   "outputs": [],
   "source": [
    "import matplotlib.pyplot as plt\n",
    "from matplotlib import rcParams,rc\n",
    "import cartopy.crs as ccrs\n",
    "from cartopy.mpl.gridliner import LATITUDE_FORMATTER, LONGITUDE_FORMATTER\n",
    "import numpy as np\n",
    "import xarray as xr\n",
    "import sys\n",
    "import os\n",
    "from ncdf_io import ncdf_io\n"
   ]
  },
  {
   "cell_type": "code",
   "execution_count": 3,
   "metadata": {},
   "outputs": [],
   "source": [
    "%matplotlib inline \n",
    "%load_ext autoreload\n",
    "%autoreload 2"
   ]
  },
  {
   "cell_type": "code",
   "execution_count": 4,
   "metadata": {},
   "outputs": [],
   "source": [
    "base=os.getcwd()"
   ]
  },
  {
   "cell_type": "code",
   "execution_count": 5,
   "metadata": {},
   "outputs": [],
   "source": [
    "dir1='/Users/joedhsu/Research/Rsync/Data/Mask/ETOPO/NOAA/'\n",
    "file1='ETOPO1_Ice_c_gmt4.grd'"
   ]
  },
  {
   "cell_type": "markdown",
   "metadata": {},
   "source": [
    "\n",
    "---\n",
    "\n",
    "## Read the Topo file "
   ]
  },
  {
   "cell_type": "code",
   "execution_count": 6,
   "metadata": {},
   "outputs": [],
   "source": [
    "# ncdf_io(dir1+file1+'.nc')\n",
    "ds=xr.open_dataset(dir1+file1+'.nc')"
   ]
  },
  {
   "cell_type": "code",
   "execution_count": null,
   "metadata": {},
   "outputs": [
    {
     "data": {
      "text/plain": [
       "<matplotlib.collections.QuadMesh at 0x103551ad0>"
      ]
     },
     "execution_count": 7,
     "metadata": {},
     "output_type": "execute_result"
    }
   ],
   "source": [
    "ds['z'].plot()"
   ]
  },
  {
   "cell_type": "markdown",
   "metadata": {},
   "source": [
    "**Changing the longitude from -180 to 180**"
   ]
  },
  {
   "cell_type": "code",
   "execution_count": null,
   "metadata": {},
   "outputs": [],
   "source": [
    "longitude=ds['z'].x.values.copy()   \n",
    "longitude[np.where(longitude<0)]=longitude[np.where(longitude<0)]+360.\n",
    "ds['z'].x.values=longitude"
   ]
  },
  {
   "cell_type": "markdown",
   "metadata": {},
   "source": [
    "---\n",
    "## Read the Ocean mass "
   ]
  },
  {
   "cell_type": "code",
   "execution_count": null,
   "metadata": {},
   "outputs": [],
   "source": [
    "data1='./data/jpl_mascon_ocean-slf.reg.nc'\n",
    "data2='./data/jpl_mascon_ocean.reg.nc'\n",
    "ds_jpl_slfcorr=xr.open_dataset(data1)\n",
    "ds_jpl=xr.open_dataset(data2)"
   ]
  },
  {
   "cell_type": "code",
   "execution_count": null,
   "metadata": {},
   "outputs": [],
   "source": [
    "ds_jpl_slfcorr"
   ]
  },
  {
   "cell_type": "code",
   "execution_count": null,
   "metadata": {},
   "outputs": [],
   "source": [
    "ds_jpl"
   ]
  },
  {
   "cell_type": "markdown",
   "metadata": {},
   "source": [
    "**Interpolate the topo to match with the ocean mass data**"
   ]
  },
  {
   "cell_type": "code",
   "execution_count": null,
   "metadata": {},
   "outputs": [],
   "source": [
    "ds_topo_interp=ds['z'].interp(coords={'x':ds_jpl_slfcorr.lon, 'y':ds_jpl_slfcorr.lat})"
   ]
  },
  {
   "cell_type": "code",
   "execution_count": null,
   "metadata": {},
   "outputs": [],
   "source": [
    "ds_topo_interp.plot()"
   ]
  },
  {
   "cell_type": "code",
   "execution_count": null,
   "metadata": {},
   "outputs": [],
   "source": [
    "ds_topo_interp.to_netcdf('./data/topo_interp.nc')"
   ]
  },
  {
   "cell_type": "code",
   "execution_count": null,
   "metadata": {},
   "outputs": [],
   "source": [
    "ds_topo_interp=ds_topo_interp.drop(['x','y'])"
   ]
  },
  {
   "cell_type": "code",
   "execution_count": null,
   "metadata": {},
   "outputs": [],
   "source": [
    "ds_topo_interp"
   ]
  },
  {
   "cell_type": "markdown",
   "metadata": {},
   "source": [
    "\n",
    "---\n",
    "**Plotting with Projection change**\n",
    "\n",
    "`ccrs.Orthographic` projection does not seems to work for the interp topo result. Worng topo values (contourf cannot show value lower than -2000)  are shown for the whole map"
   ]
  },
  {
   "cell_type": "code",
   "execution_count": null,
   "metadata": {},
   "outputs": [],
   "source": [
    "# set the figure and data projection\n",
    "data_proj=ccrs.PlateCarree()\n",
    "fig_proj_test=ccrs.Orthographic(0, 90)    # rotating the center of the projection  => Not working for topo\n",
    "fig_proj=ccrs.NorthPolarStereo(0, 90)    # rotating the center of the projection\n",
    "\n",
    "# set the figure axes\n",
    "fig=plt.figure(facecolor='w',edgecolor='w')\n",
    "ax1=fig.add_axes([0,0,1,1],projection=fig_proj)\n",
    "ax2=fig.add_axes([1,0,1,1],projection=fig_proj_test)\n",
    "\n",
    "# plot the data in each axes\n",
    "ax1.set_title('Topo')\n",
    "ax1.set_extent([-180,180,57,90], crs=data_proj)\n",
    "ds_topo_interp.plot.contourf(ax=ax1, transform=data_proj, cmap='hot', levels=np.linspace(-4000,0,5))\n",
    "ax1.coastlines(resolution='110m',linewidths=0.3)\n",
    "\n",
    "ax2.set_extent([-180,180,57,90], crs=data_proj)\n",
    "ds_topo_interp.plot.contourf(ax=ax2, transform=data_proj, cmap='hot', levels=np.linspace(-4000,0,5))\n",
    "ax2.coastlines(resolution='110m',linewidths=0.3)"
   ]
  },
  {
   "cell_type": "code",
   "execution_count": null,
   "metadata": {},
   "outputs": [],
   "source": [
    "# set the figure and data projection\n",
    "data_proj=ccrs.PlateCarree()\n",
    "fig_proj=ccrs.NorthPolarStereo(0, 90)   \n",
    "\n",
    "# set the figure axes\n",
    "hmm=70.    # mm\n",
    "vmm=65.    # mm\n",
    "fontsize=6\n",
    "rcParams['xtick.direction'] = 'out'\n",
    "rcParams['ytick.direction'] = 'out'\n",
    "rcParams.update({'font.size': fontsize})\n",
    "rc('font', family='sans-serif')\n",
    "rc('font', serif='Helvetica')\n",
    "mm2inch=0.0393701\n",
    "hmm=hmm*mm2inch\n",
    "vmm=vmm*mm2inch\n",
    "fig=plt.figure(figsize=(hmm,vmm),dpi=300,facecolor='w',edgecolor='w')\n",
    "# ax1=fig.add_axes([0.35,0.0,1.20,1],projection=fig_proj)\n",
    "# ax2=fig.add_axes([1.2,0,1,1],projection=fig_proj)\n",
    "ax1=fig.add_axes([0.25,0.065,1.05,0.87],projection=fig_proj)\n",
    "ax2=fig.add_axes([1.2,0,1,1],projection=fig_proj)\n",
    "\n",
    "# plot the data in each axes\n",
    "levels=np.linspace(-0.1,0.8,10)\n",
    "plot1=ds_jpl_slfcorr['beta'].sel(reg_variate='lin').plot.contourf(ax=ax1, transform=data_proj\n",
    "        , levels=levels,cmap='gist_rainbow_r',add_colorbar=False, add_labels=True)\n",
    "ds_topo_interp.plot.contour(ax=ax1, transform=data_proj\n",
    "                            , colors='k', levels=[-3000],linewidths=0.5,linestyles='dashdot')\n",
    "ds_topo_interp.plot.contour(ax=ax1, transform=data_proj\n",
    "                            , colors='b', levels=[-2000],linewidths=0.5,linestyles='dashed')\n",
    "ax1.set_title('JPL with SLF correction trend')\n",
    "# ax1.text(fig_proj.transform_point(180,45,data_proj), 'NoSLFcorr')\n",
    "ax1.set_extent([-180,180,57,90], crs=data_proj)\n",
    "ax1.coastlines(resolution='110m',linewidths=0.8)\n",
    "\n",
    "\n",
    "# plot2=ds_jpl['beta'].sel(reg_variate='lin').plot.contourf(ax=ax2, transform=data_proj\n",
    "#         , levels=levels, extend='both',cmap='gist_rainbow_r'\n",
    "#         , cbar_kwargs={'ticks': levels,'label':'cmH2O/yr'})\n",
    "# ax2.set_title('JPL trend')\n",
    "# # ax2.set_extent([-180,180,57,90], crs=data_proj)\n",
    "# ds_topo_interp.plot.contour(ax=ax2, transform=data_proj\n",
    "#                             , colors='k', levels=[-3000],linewidths=0.5,linestyles='dashdot')\n",
    "# ds_topo_interp.plot.contour(ax=ax2, transform=data_proj\n",
    "#                             , colors='b', levels=[-2000],linewidths=0.5,linestyles='dashed')\n",
    "# ax2.coastlines(resolution='110m',linewidths=0.8)\n",
    "\n",
    "\n",
    "####################  Grid on  ######################\n",
    "# *must* call draw in order to get the axis boundary used to add ticks:\n",
    "fig.canvas.draw()\n",
    "xtick=np.linspace(0,360,37)-180.  # need to be -180~180\n",
    "ytick=np.linspace(55,85,7)\n",
    "\n",
    "#Label the end-points of the gridlines using the custom tick makers:\n",
    "ax1.gridlines(xlocs=xtick, ylocs=ytick,color='gray', linestyle='--', linewidth=0.5)\n",
    "ax1.xaxis.set_major_formatter(LONGITUDE_FORMATTER) \n",
    "ax1.yaxis.set_major_formatter(LATITUDE_FORMATTER)\n",
    "# lambert_xticks(ax1, xtick)\n",
    "# lambert_yticks(ax1, ytick)\n",
    "ax2.gridlines(xlocs=xtick, ylocs=ytick,color='gray', linestyle='--', linewidth=0.5)\n",
    "ax2.xaxis.set_major_formatter(LONGITUDE_FORMATTER) \n",
    "ax2.yaxis.set_major_formatter(LATITUDE_FORMATTER)\n",
    "\n",
    "# # export the figure\n",
    "# plt.savefig('./figures/arctic_jpl_mascon.pdf', dpi=300, facecolor='w', edgecolor='w',\n",
    "#         orientation='landscape', papertype=None, format=None,\n",
    "#         transparent=False, bbox_inches=\"tight\", pad_inches=None,\n",
    "#         frameon=None)\n",
    "\n"
   ]
  },
  {
   "cell_type": "code",
   "execution_count": null,
   "metadata": {},
   "outputs": [],
   "source": []
  },
  {
   "cell_type": "code",
   "execution_count": null,
   "metadata": {},
   "outputs": [],
   "source": []
  },
  {
   "cell_type": "code",
   "execution_count": null,
   "metadata": {},
   "outputs": [],
   "source": []
  },
  {
   "cell_type": "code",
   "execution_count": null,
   "metadata": {},
   "outputs": [],
   "source": []
  },
  {
   "cell_type": "code",
   "execution_count": null,
   "metadata": {},
   "outputs": [],
   "source": [
    "# set the figure and data projection\n",
    "data_proj=ccrs.PlateCarree()\n",
    "fig_proj=ccrs.Orthographic(-0, 90)    # rotating the center of the projection\n",
    "#fig_proj = ccrs.LambertConformal(central_longitude=-50, central_latitude=45)\n",
    "# fig_proj = ccrs.Mercator(central_longitude=0.0, min_latitude=-80.0, max_latitude=84.0)\n",
    "\n",
    "# set the figure axes\n",
    "hmm=70.    # mm\n",
    "vmm=65.    # mm\n",
    "fontsize=6\n",
    "rcParams['xtick.direction'] = 'out'\n",
    "rcParams['ytick.direction'] = 'out'\n",
    "rcParams.update({'font.size': fontsize})\n",
    "rc('font', family='sans-serif')\n",
    "rc('font', serif='Helvetica')\n",
    "mm2inch=0.0393701\n",
    "hmm=hmm*mm2inch\n",
    "vmm=vmm*mm2inch\n",
    "fig=plt.figure(dpi=300,facecolor='w',edgecolor='w')\n",
    "ax1=fig.add_axes([0.25,0.07,1.05,0.86],projection=fig_proj)\n",
    "ax2=fig.add_axes([1.2,0,1,1],projection=fig_proj)\n",
    "\n",
    "# plot the data in each axes\n",
    "# levels=np.linspace(-0.1,0.8,10)\n",
    "# plot1=ds_jpl_slf['beta'].sel(reg_variate='lin').plot.contourf(ax=ax1, transform=data_proj\n",
    "#         , levels=levels, extend='both',cmap='gist_rainbow_r'\n",
    "#         , cbar_kwargs={'ticks': levels,'label':'cmH2O'})\n",
    "ax1.set_title('JPL with SLF correction trend')\n",
    "ax1.set_extent([-180,180,57,90], crs=data_proj)\n",
    "# ds_topo_interp.plot.contour(ax=ax1, transform=data_proj\n",
    "#                             , colors='k', levels=[-4000],linewidths=0.5,linestyles='dashdot')\n",
    "# ds_topo_interp.plot.contourf(ax=ax1, transform=data_proj\n",
    "#                             , colors='k', levels=[-2000],linewidths=0.5,linestyles='dashed')\n",
    "ds_topo_interp.plot.contourf(ax=ax1, transform=data_proj\n",
    "                            , colors='hot', levels=np.linspace(-4000,0,5))\n",
    "\n",
    "# ds['z'].plot.contourf(ax=ax2, transform=data_proj\n",
    "#                             , colors='hot', levels=np.linspace(-4000,0,5))\n",
    "ax1.coastlines(resolution='110m',linewidths=0.3)\n",
    "# ax2.coastlines(resolution='110m',linewidths=0.3)\n",
    "#         , levels=levels, extend='both',cmap='gist_rainbow_r'\n",
    "#         , cbar_kwargs{'ticks': levels,'label':'cmH2O'})\n",
    "\n",
    "\n",
    "####################  Grid on  ######################\n",
    "# *must* call draw in order to get the axis boundary used to add ticks:\n",
    "fig.canvas.draw()\n",
    "xtick=np.linspace(0,360,37)-180.  # need to be -180~180\n",
    "ytick=np.linspace(55,85,7)\n",
    "\n",
    "# Label the end-points of the gridlines using the custom tick makers:\n",
    "# ax1.gridlines(xlocs=xtick, ylocs=ytick,color='gray', linestyle='--', linewidth=0.5)\n",
    "# ax1.xaxis.set_major_formatter(LONGITUDE_FORMATTER) \n",
    "# ax1.yaxis.set_major_formatter(LATITUDE_FORMATTER)\n",
    "# lambert_xticks(ax1, xtick)\n",
    "# lambert_yticks(ax1, ytick)\n",
    "# ax2.gridlines(xlocs=xtick, ylocs=ytick,color='gray', linestyle='--', linewidth=0.5)\n",
    "# ax2.xaxis.set_major_formatter(LONGITUDE_FORMATTER) \n",
    "# ax2.yaxis.set_major_formatter(LATITUDE_FORMATTER)\n",
    "\n",
    "# # export the figure\n",
    "# plt.savefig('./figures/arctic_jpl_mascon.pdf', dpi=300, facecolor='w', edgecolor='w',\n",
    "#         orientation='landscape', papertype=None, format=None,\n",
    "#         transparent=False, bbox_inches=\"tight\", pad_inches=None,\n",
    "#         frameon=None)\n",
    "\n"
   ]
  },
  {
   "cell_type": "code",
   "execution_count": null,
   "metadata": {},
   "outputs": [],
   "source": [
    "# set the figure and data projection\n",
    "data_proj=ccrs.PlateCarree()\n",
    "fig_proj=ccrs.Orthographic(-0, 90)    # rotating the center of the projection\n",
    "#fig_proj = ccrs.LambertConformal(central_longitude=-50, central_latitude=45)\n",
    "# fig_proj = ccrs.Mercator(central_longitude=0.0, min_latitude=-80.0, max_latitude=84.0)\n",
    "\n",
    "# set the figure axes\n",
    "hmm=70.    # mm\n",
    "vmm=65.    # mm\n",
    "fontsize=6\n",
    "rcParams['xtick.direction'] = 'out'\n",
    "rcParams['ytick.direction'] = 'out'\n",
    "rcParams.update({'font.size': fontsize})\n",
    "rc('font', family='sans-serif')\n",
    "rc('font', serif='Helvetica')\n",
    "mm2inch=0.0393701\n",
    "hmm=hmm*mm2inch\n",
    "vmm=vmm*mm2inch\n",
    "fig=plt.figure(dpi=300,facecolor='w',edgecolor='w')\n",
    "ax1=fig.add_axes([0.25,0.07,1.05,0.86],projection=fig_proj)\n",
    "# ax2=fig.add_axes([1.2,0,1,1],projection=fig_proj)\n",
    "\n",
    "# plot the data in each axes\n",
    "# levels=np.linspace(-0.1,0.8,10)\n",
    "# plot1=ds_jpl_slf['beta'].sel(reg_variate='lin').plot.contourf(ax=ax1, transform=data_proj\n",
    "#         , levels=levels, extend='both',cmap='gist_rainbow_r'\n",
    "#         , cbar_kwargs={'ticks': levels,'label':'cmH2O'})\n",
    "ax1.set_title('JPL with SLF correction trend')\n",
    "ax1.set_extent([-180,180,57,90], crs=data_proj)\n",
    "# ds_topo_interp.plot.contour(ax=ax1, transform=data_proj\n",
    "#                             , colors='k', levels=[-4000],linewidths=0.5,linestyles='dashdot')\n",
    "# ds_topo_interp.plot.contourf(ax=ax1, transform=data_proj\n",
    "#                             , colors='k', levels=[-2000],linewidths=0.5,linestyles='dashed')\n",
    "ds_topo_interp.plot.contourf(ax=ax1, transform=data_proj\n",
    "                            , colors='hot', levels=np.linspace(-4000,0,5))\n",
    "\n",
    "ax1.coastlines(resolution='110m',linewidths=0.3)\n",
    "#         , levels=levels, extend='both',cmap='gist_rainbow_r'\n",
    "#         , cbar_kwargs{'ticks': levels,'label':'cmH2O'})\n",
    "\n",
    "\n",
    "####################  Grid on  ######################\n",
    "# *must* call draw in order to get the axis boundary used to add ticks:\n",
    "fig.canvas.draw()\n",
    "xtick=np.linspace(0,360,37)-180.  # need to be -180~180\n",
    "ytick=np.linspace(55,85,7)\n",
    "\n",
    "# Label the end-points of the gridlines using the custom tick makers:\n",
    "# ax1.gridlines(xlocs=xtick, ylocs=ytick,color='gray', linestyle='--', linewidth=0.5)\n",
    "# ax1.xaxis.set_major_formatter(LONGITUDE_FORMATTER) \n",
    "# ax1.yaxis.set_major_formatter(LATITUDE_FORMATTER)\n",
    "# lambert_xticks(ax1, xtick)\n",
    "# lambert_yticks(ax1, ytick)\n",
    "# ax2.gridlines(xlocs=xtick, ylocs=ytick,color='gray', linestyle='--', linewidth=0.5)\n",
    "# ax2.xaxis.set_major_formatter(LONGITUDE_FORMATTER) \n",
    "# ax2.yaxis.set_major_formatter(LATITUDE_FORMATTER)\n",
    "\n",
    "# # export the figure\n",
    "# plt.savefig('./figures/arctic_jpl_mascon.pdf', dpi=300, facecolor='w', edgecolor='w',\n",
    "#         orientation='landscape', papertype=None, format=None,\n",
    "#         transparent=False, bbox_inches=\"tight\", pad_inches=None,\n",
    "#         frameon=None)\n",
    "\n"
   ]
  },
  {
   "cell_type": "code",
   "execution_count": null,
   "metadata": {},
   "outputs": [],
   "source": []
  },
  {
   "cell_type": "code",
   "execution_count": null,
   "metadata": {},
   "outputs": [],
   "source": []
  },
  {
   "cell_type": "code",
   "execution_count": null,
   "metadata": {},
   "outputs": [],
   "source": []
  },
  {
   "cell_type": "code",
   "execution_count": null,
   "metadata": {},
   "outputs": [],
   "source": []
  }
 ],
 "metadata": {
  "kernelspec": {
   "display_name": "Python 2",
   "language": "python",
   "name": "python2"
  },
  "language_info": {
   "codemirror_mode": {
    "name": "ipython",
    "version": 2
   },
   "file_extension": ".py",
   "mimetype": "text/x-python",
   "name": "python",
   "nbconvert_exporter": "python",
   "pygments_lexer": "ipython2",
   "version": "2.7.13"
  }
 },
 "nbformat": 4,
 "nbformat_minor": 2
}
